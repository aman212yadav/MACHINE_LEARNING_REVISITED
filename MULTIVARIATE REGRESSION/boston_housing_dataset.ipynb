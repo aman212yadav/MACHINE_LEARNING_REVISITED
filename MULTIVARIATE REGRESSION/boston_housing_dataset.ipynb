{
 "cells": [
  {
   "cell_type": "markdown",
   "metadata": {},
   "source": [
    "## Multivariate Linear regression on Boston dataset"
   ]
  },
  {
   "cell_type": "code",
   "execution_count": 8,
   "metadata": {},
   "outputs": [],
   "source": [
    "# import libraries\n",
    "from sklearn.datasets import load_boston\n",
    "from sklearn.linear_model import LinearRegression\n",
    "from sklearn.model_selection import train_test_split\n"
   ]
  },
  {
   "cell_type": "code",
   "execution_count": 9,
   "metadata": {
    "scrolled": true
   },
   "outputs": [
    {
     "name": "stdout",
     "output_type": "stream",
     "text": [
      "(506, 13)\n",
      "(506,)\n"
     ]
    }
   ],
   "source": [
    "# loading data\n",
    "x=boston.data\n",
    "y=boston.target\n",
    "print(x.shape)\n",
    "print(y.shape)"
   ]
  },
  {
   "cell_type": "code",
   "execution_count": 10,
   "metadata": {},
   "outputs": [],
   "source": [
    "# splitting data into train and test\n",
    "x_train,x_test,y_train,y_test = train_test_split(x,y,test_size=0.2)\n"
   ]
  },
  {
   "cell_type": "code",
   "execution_count": 13,
   "metadata": {},
   "outputs": [
    {
     "name": "stdout",
     "output_type": "stream",
     "text": [
      "[-1.16798744e-01  3.59143188e-02 -2.41694468e-03  3.21764830e+00\n",
      " -1.67790149e+01  3.94055178e+00  8.35941883e-03 -1.28073009e+00\n",
      "  3.45150561e-01 -1.24713114e-02 -8.63330893e-01  6.82228641e-03\n",
      " -5.59038181e-01]\n",
      "33.51516062652179\n"
     ]
    }
   ],
   "source": [
    "# training \n",
    "\n",
    "# creating object\n",
    "lr=LinearRegression(normalize=True)\n",
    "# trianing model\n",
    "lr.fit(x_train,y_train)\n",
    "# output parameters\n",
    "print(lr.coef_)\n",
    "print(lr.intercept_)\n"
   ]
  },
  {
   "cell_type": "code",
   "execution_count": 15,
   "metadata": {},
   "outputs": [
    {
     "name": "stdout",
     "output_type": "stream",
     "text": [
      "Training Score 0.7270 \n",
      "Testing Score 0.7666 \n"
     ]
    }
   ],
   "source": [
    "print(\"Training Score %0.4f \"%(lr.score(x_train,y_train)))\n",
    "print(\"Testing Score %0.4f \"%(lr.score(x_test,y_test)))"
   ]
  },
  {
   "cell_type": "code",
   "execution_count": null,
   "metadata": {},
   "outputs": [],
   "source": []
  }
 ],
 "metadata": {
  "kernelspec": {
   "display_name": "Python 3",
   "language": "python",
   "name": "python3"
  },
  "language_info": {
   "codemirror_mode": {
    "name": "ipython",
    "version": 3
   },
   "file_extension": ".py",
   "mimetype": "text/x-python",
   "name": "python",
   "nbconvert_exporter": "python",
   "pygments_lexer": "ipython3",
   "version": "3.7.1"
  }
 },
 "nbformat": 4,
 "nbformat_minor": 2
}
