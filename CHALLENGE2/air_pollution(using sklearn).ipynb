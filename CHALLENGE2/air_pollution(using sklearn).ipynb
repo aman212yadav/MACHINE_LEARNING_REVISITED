{
 "cells": [
  {
   "cell_type": "code",
   "execution_count": 2,
   "metadata": {},
   "outputs": [],
   "source": [
    "#importing required libraries\n",
    "import numpy as np\n",
    "import pandas as pd\n",
    "import matplotlib.pyplot as plt\n",
    "from sklearn.linear_model import LinearRegression"
   ]
  },
  {
   "cell_type": "code",
   "execution_count": 14,
   "metadata": {},
   "outputs": [
    {
     "data": {
      "text/html": [
       "<div>\n",
       "<style scoped>\n",
       "    .dataframe tbody tr th:only-of-type {\n",
       "        vertical-align: middle;\n",
       "    }\n",
       "\n",
       "    .dataframe tbody tr th {\n",
       "        vertical-align: top;\n",
       "    }\n",
       "\n",
       "    .dataframe thead th {\n",
       "        text-align: right;\n",
       "    }\n",
       "</style>\n",
       "<table border=\"1\" class=\"dataframe\">\n",
       "  <thead>\n",
       "    <tr style=\"text-align: right;\">\n",
       "      <th></th>\n",
       "      <th>feature_1</th>\n",
       "      <th>feature_2</th>\n",
       "      <th>feature_3</th>\n",
       "      <th>feature_4</th>\n",
       "      <th>feature_5</th>\n",
       "      <th>target</th>\n",
       "    </tr>\n",
       "  </thead>\n",
       "  <tbody>\n",
       "    <tr>\n",
       "      <th>0</th>\n",
       "      <td>0.293416</td>\n",
       "      <td>-0.945599</td>\n",
       "      <td>-0.421105</td>\n",
       "      <td>0.406816</td>\n",
       "      <td>0.525662</td>\n",
       "      <td>-82.154667</td>\n",
       "    </tr>\n",
       "    <tr>\n",
       "      <th>1</th>\n",
       "      <td>-0.836084</td>\n",
       "      <td>-0.189228</td>\n",
       "      <td>-0.776403</td>\n",
       "      <td>-1.053831</td>\n",
       "      <td>0.597997</td>\n",
       "      <td>-48.897960</td>\n",
       "    </tr>\n",
       "    <tr>\n",
       "      <th>2</th>\n",
       "      <td>0.236425</td>\n",
       "      <td>0.132836</td>\n",
       "      <td>-0.147723</td>\n",
       "      <td>0.699854</td>\n",
       "      <td>-0.187364</td>\n",
       "      <td>77.270371</td>\n",
       "    </tr>\n",
       "    <tr>\n",
       "      <th>3</th>\n",
       "      <td>0.175312</td>\n",
       "      <td>0.143194</td>\n",
       "      <td>-0.581111</td>\n",
       "      <td>-0.122107</td>\n",
       "      <td>-1.292168</td>\n",
       "      <td>-2.988581</td>\n",
       "    </tr>\n",
       "    <tr>\n",
       "      <th>4</th>\n",
       "      <td>-1.693011</td>\n",
       "      <td>0.542712</td>\n",
       "      <td>-2.798729</td>\n",
       "      <td>-0.686723</td>\n",
       "      <td>1.244077</td>\n",
       "      <td>-37.596722</td>\n",
       "    </tr>\n",
       "    <tr>\n",
       "      <th>5</th>\n",
       "      <td>-1.055329</td>\n",
       "      <td>-0.874807</td>\n",
       "      <td>0.580753</td>\n",
       "      <td>-0.773541</td>\n",
       "      <td>1.070888</td>\n",
       "      <td>-122.405263</td>\n",
       "    </tr>\n",
       "    <tr>\n",
       "      <th>6</th>\n",
       "      <td>-0.824707</td>\n",
       "      <td>0.499427</td>\n",
       "      <td>1.293281</td>\n",
       "      <td>-0.240671</td>\n",
       "      <td>-0.419136</td>\n",
       "      <td>1.413741</td>\n",
       "    </tr>\n",
       "    <tr>\n",
       "      <th>7</th>\n",
       "      <td>-1.936602</td>\n",
       "      <td>0.583708</td>\n",
       "      <td>-0.521135</td>\n",
       "      <td>-0.631724</td>\n",
       "      <td>-1.030729</td>\n",
       "      <td>-13.306543</td>\n",
       "    </tr>\n",
       "    <tr>\n",
       "      <th>8</th>\n",
       "      <td>0.647431</td>\n",
       "      <td>-0.265401</td>\n",
       "      <td>0.327080</td>\n",
       "      <td>0.457829</td>\n",
       "      <td>-1.757592</td>\n",
       "      <td>-25.754698</td>\n",
       "    </tr>\n",
       "    <tr>\n",
       "      <th>9</th>\n",
       "      <td>-1.133029</td>\n",
       "      <td>-0.839132</td>\n",
       "      <td>-0.547809</td>\n",
       "      <td>0.551768</td>\n",
       "      <td>-0.639173</td>\n",
       "      <td>-57.077754</td>\n",
       "    </tr>\n",
       "  </tbody>\n",
       "</table>\n",
       "</div>"
      ],
      "text/plain": [
       "   feature_1  feature_2  feature_3  feature_4  feature_5      target\n",
       "0   0.293416  -0.945599  -0.421105   0.406816   0.525662  -82.154667\n",
       "1  -0.836084  -0.189228  -0.776403  -1.053831   0.597997  -48.897960\n",
       "2   0.236425   0.132836  -0.147723   0.699854  -0.187364   77.270371\n",
       "3   0.175312   0.143194  -0.581111  -0.122107  -1.292168   -2.988581\n",
       "4  -1.693011   0.542712  -2.798729  -0.686723   1.244077  -37.596722\n",
       "5  -1.055329  -0.874807   0.580753  -0.773541   1.070888 -122.405263\n",
       "6  -0.824707   0.499427   1.293281  -0.240671  -0.419136    1.413741\n",
       "7  -1.936602   0.583708  -0.521135  -0.631724  -1.030729  -13.306543\n",
       "8   0.647431  -0.265401   0.327080   0.457829  -1.757592  -25.754698\n",
       "9  -1.133029  -0.839132  -0.547809   0.551768  -0.639173  -57.077754"
      ]
     },
     "execution_count": 14,
     "metadata": {},
     "output_type": "execute_result"
    }
   ],
   "source": [
    "# loading training data\n",
    "df=pd.read_csv('DATASET/Train.csv')\n",
    "df.head(10)\n",
    "#df.describe()"
   ]
  },
  {
   "cell_type": "code",
   "execution_count": 20,
   "metadata": {},
   "outputs": [],
   "source": [
    "x=df.values\n",
    "# extracting input and output \n",
    "X_train=x[:,:5]\n",
    "Y_train=x[:,-1:]\n",
    "\n",
    "# Normalising data\n",
    "X_train=(X_train-X_train.mean())/X_train.std()\n"
   ]
  },
  {
   "cell_type": "code",
   "execution_count": 27,
   "metadata": {},
   "outputs": [
    {
     "data": {
      "image/png": "[encoded data removed]",
      "text/plain": [
       "<Figure size 432x288 with 1 Axes>"
      ]
     },
     "metadata": {
      "needs_background": "light"
     },
     "output_type": "display_data"
    }
   ],
   "source": [
    "plt.scatter(X_train[:,1],Y_train)\n",
    "plt.show()"
   ]
  },
  {
   "cell_type": "code",
   "execution_count": 28,
   "metadata": {},
   "outputs": [
    {
     "data": {
      "text/plain": [
       "LinearRegression(copy_X=True, fit_intercept=True, n_jobs=None,\n",
       "         normalize=False)"
      ]
     },
     "execution_count": 28,
     "metadata": {},
     "output_type": "execute_result"
    }
   ],
   "source": [
    "# LinearRegression object\n",
    "lr=LinearRegression()\n",
    "\n",
    "# training model\n",
    "lr.fit(X_train,Y_train)\n"
   ]
  },
  {
   "cell_type": "code",
   "execution_count": 29,
   "metadata": {},
   "outputs": [
    {
     "name": "stdout",
     "output_type": "stream",
     "text": [
      "(400, 5)\n"
     ]
    }
   ],
   "source": [
    "# loading test file\n",
    "X=pd.read_csv('DATASET/Test.csv').values\n",
    "X_test=(X-X.mean())/X.std()\n",
    "\n",
    "print(X_test.shape)\n"
   ]
  },
  {
   "cell_type": "code",
   "execution_count": 30,
   "metadata": {},
   "outputs": [],
   "source": [
    "# predicting output\n",
    "Y_test=lr.predict(X_test)"
   ]
  },
  {
   "cell_type": "code",
   "execution_count": 31,
   "metadata": {},
   "outputs": [
    {
     "name": "stdout",
     "output_type": "stream",
     "text": [
      "(400, 1)\n"
     ]
    }
   ],
   "source": [
    "print(Y_test.shape)"
   ]
  },
  {
   "cell_type": "code",
   "execution_count": 33,
   "metadata": {},
   "outputs": [],
   "source": [
    "# inserting predicted data to csv file\n",
    "df=pd.DataFrame(Y_test)\n",
    "df.to_csv('DATASET/Test_y_sklearn.csv',header=['target'],index=True,index_label='id')"
   ]
  },
  {
   "cell_type": "code",
   "execution_count": null,
   "metadata": {},
   "outputs": [],
   "source": []
  }
 ],
 "metadata": {
  "kernelspec": {
   "display_name": "Python 3",
   "language": "python",
   "name": "python3"
  },
  "language_info": {
   "codemirror_mode": {
    "name": "ipython",
    "version": 3
   },
   "file_extension": ".py",
   "mimetype": "text/x-python",
   "name": "python",
   "nbconvert_exporter": "python",
   "pygments_lexer": "ipython3",
   "version": "3.7.1"
  }
 },
 "nbformat": 4,
 "nbformat_minor": 2
}
