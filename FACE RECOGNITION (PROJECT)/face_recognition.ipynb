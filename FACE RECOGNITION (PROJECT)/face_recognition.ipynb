{
 "cells": [
  {
   "cell_type": "code",
   "execution_count": 56,
   "metadata": {},
   "outputs": [],
   "source": [
    "import cv2,os\n",
    "import numpy as np"
   ]
  },
  {
   "cell_type": "code",
   "execution_count": 57,
   "metadata": {},
   "outputs": [],
   "source": [
    "# distance\n",
    "def distance(x1,x2):\n",
    "    return np.sqrt(np.sum((x1-x2)**2))\n",
    "\n",
    "\n",
    "def knn(X,Y,query_point,k=6):\n",
    "    m=X.shape[0]\n",
    "    l=[]\n",
    "    for i in range(m):\n",
    "        dist=distance(query_point,X[i])\n",
    "        l.append((dist,Y[i]))\n",
    "    val=sorted(l)\n",
    "    val=val[:k]\n",
    "    val=np.array(val)\n",
    "    r=np.unique(val[:,1],return_counts=True)\n",
    "    idx=np.argmax(r[1])\n",
    "    return r[0][idx]\n",
    "    "
   ]
  },
  {
   "cell_type": "code",
   "execution_count": 58,
   "metadata": {},
   "outputs": [],
   "source": [
    "data_path='DATA/'\n",
    "label_id=0\n",
    "labels=[]\n",
    "data=[]\n",
    "names={}"
   ]
  },
  {
   "cell_type": "code",
   "execution_count": 59,
   "metadata": {},
   "outputs": [],
   "source": [
    "for fx in os.listdir(data_path):\n",
    "    if fx.endswith('.npy'):\n",
    "        d=np.load(data_path+fx)\n",
    "        names[label_id]=fx[:-4]\n",
    "        data.append(d)\n",
    "        label=label_id*np.ones((d.shape[0],))\n",
    "        labels.append(label)\n",
    "        label_id+=1\n",
    "data=np.concatenate(data,axis=0)        \n",
    "labels=np.concatenate(labels,axis=0).reshape((-1,1))"
   ]
  },
  {
   "cell_type": "code",
   "execution_count": 60,
   "metadata": {},
   "outputs": [],
   "source": [
    "cap=cv2.VideoCapture(0)\n",
    "face_finder=cv2.CascadeClassifier('haarcascade_frontalface_alt.xml')"
   ]
  },
  {
   "cell_type": "code",
   "execution_count": 61,
   "metadata": {},
   "outputs": [],
   "source": [
    "while True:\n",
    "    ret,frame=cap.read()\n",
    "    if ret==False:\n",
    "        continue\n",
    "    faces=face_finder.detectMultiScale(frame,1.3,5)    \n",
    "    for (x,y,w,h) in faces:\n",
    "        offset=10\n",
    "        face_section=frame[y-offset:y+h+offset,x-offset:x+w+offset]\n",
    "        face_section=cv2.resize(face_section,(100,100))\n",
    "        out=knn(data,labels,face_section)\n",
    "        pred_name=names[int(out)]\n",
    "        cv2.rectangle(frame,(x,y),(x+w,y+h),(255,255,0),2) \n",
    "        cv2.putText(frame,pred_name,(x,y-10),cv2.FONT_HERSHEY_COMPLEX, 1,(255,0,0),2,cv2.LINE_AA)\n",
    "    cv2.imshow(\"image\",frame)    \n",
    "    key=cv2.waitKey(1) & 0xFF\n",
    "    if key==ord('q') :\n",
    "        break\n",
    "cap.release()\n",
    "cv2.destroyAllWindows()        \n",
    "        "
   ]
  },
  {
   "cell_type": "code",
   "execution_count": null,
   "metadata": {},
   "outputs": [],
   "source": []
  }
 ],
 "metadata": {
  "kernelspec": {
   "display_name": "Python 3",
   "language": "python",
   "name": "python3"
  },
  "language_info": {
   "codemirror_mode": {
    "name": "ipython",
    "version": 3
   },
   "file_extension": ".py",
   "mimetype": "text/x-python",
   "name": "python",
   "nbconvert_exporter": "python",
   "pygments_lexer": "ipython3",
   "version": "3.7.1"
  }
 },
 "nbformat": 4,
 "nbformat_minor": 2
}
