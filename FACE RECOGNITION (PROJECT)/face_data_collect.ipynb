{
 "cells": [
  {
   "cell_type": "code",
   "execution_count": 9,
   "metadata": {},
   "outputs": [],
   "source": [
    "import cv2\n",
    "import numpy as np"
   ]
  },
  {
   "cell_type": "code",
   "execution_count": 10,
   "metadata": {
    "scrolled": true
   },
   "outputs": [
    {
     "name": "stdout",
     "output_type": "stream",
     "text": [
      "Enter ur name : dadi\n",
      "(23, 100, 100, 3)\n"
     ]
    }
   ],
   "source": [
    "file_path='Data/'\n",
    "file_name=input('Enter ur name : ')\n",
    "cap=cv2.VideoCapture(0)\n",
    "face_classifier=cv2.CascadeClassifier('haarcascade_frontalface_alt.xml')\n",
    "face_data=[]\n",
    "skip=0\n",
    "while True :\n",
    "    ret,frame=cap.read()\n",
    "    if ret==False:\n",
    "        continue\n",
    "    faces=face_classifier.detectMultiScale(frame,1.3,5)  \n",
    "    faces=sorted(faces,key=lambda x : x[2]*x[3],reverse=True)\n",
    "    offset=10\n",
    "    for (x,y,w,h) in faces:\n",
    "        cv2.rectangle(frame,(x,y),(x+w,y+h),(255,255,0),2) \n",
    "        offset=10\n",
    "        face_section=frame[y-offset:y+h+offset,x-offset:x+w+offset]\n",
    "        face_section=cv2.resize(face_section,(100,100))\n",
    "        #cv2.imshow(\"face section\"+str(x),face_section)\n",
    "        if skip%10==0:\n",
    "            face_data.append(face_section)\n",
    "    cv2.imshow(\"image\",frame)\n",
    "    cv2.imshow(\"face section\",face_section)\n",
    "    skip+=1\n",
    "    key=cv2.waitKey(1) & 0xFF\n",
    "    if key==ord('q') :\n",
    "        break\n",
    "face_data=np.asarray(face_data)\n",
    "print(face_data.shape)\n",
    "face_data.reshape((face_data.shape[0],-1))\n",
    "np.save(file_path+file_name+'.npy',face_data)\n",
    "cap.release()\n",
    "cv2.destroyAllWindows()"
   ]
  },
  {
   "cell_type": "code",
   "execution_count": null,
   "metadata": {},
   "outputs": [],
   "source": []
  }
 ],
 "metadata": {
  "kernelspec": {
   "display_name": "Python 3",
   "language": "python",
   "name": "python3"
  },
  "language_info": {
   "codemirror_mode": {
    "name": "ipython",
    "version": 3
   },
   "file_extension": ".py",
   "mimetype": "text/x-python",
   "name": "python",
   "nbconvert_exporter": "python",
   "pygments_lexer": "ipython3",
   "version": "3.7.1"
  }
 },
 "nbformat": 4,
 "nbformat_minor": 2
}
