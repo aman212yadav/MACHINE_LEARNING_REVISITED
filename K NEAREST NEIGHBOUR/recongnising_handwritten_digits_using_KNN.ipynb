{
 "cells": [
  {
   "cell_type": "code",
   "execution_count": 1,
   "metadata": {},
   "outputs": [],
   "source": [
    "# importing libraries\n",
    "import numpy as np\n",
    "import pandas as pd\n",
    "import matplotlib.pyplot as plt"
   ]
  },
  {
   "cell_type": "code",
   "execution_count": 8,
   "metadata": {},
   "outputs": [],
   "source": [
    "# loading data\n",
    "df=pd.read_csv('DATASET/train.csv')\n",
    "\n",
    "data=df.values\n",
    "Y=data[:,0]\n",
    "X=data[:,1:]"
   ]
  },
  {
   "cell_type": "code",
   "execution_count": 9,
   "metadata": {},
   "outputs": [
    {
     "name": "stdout",
     "output_type": "stream",
     "text": [
      "(42000, 784) (42000,)\n"
     ]
    }
   ],
   "source": [
    "print(X.shape,Y.shape)"
   ]
  },
  {
   "cell_type": "code",
   "execution_count": 12,
   "metadata": {},
   "outputs": [
    {
     "name": "stdout",
     "output_type": "stream",
     "text": [
      "(33600, 784) (33600,)\n",
      "(8400, 784) (8400,)\n"
     ]
    }
   ],
   "source": [
    "# splitting data into training and testing data\n",
    "split=int(0.8*X.shape[0])\n",
    "X_train=X[:split,:]\n",
    "Y_train=Y[:split]\n",
    "\n",
    "X_test=X[split:,:]\n",
    "Y_test=Y[split:]\n",
    "\n",
    "print(X_train.shape,Y_train.shape)\n",
    "\n",
    "print(X_test.shape,Y_test.shape)\n",
    "    "
   ]
  },
  {
   "cell_type": "code",
   "execution_count": 19,
   "metadata": {},
   "outputs": [
    {
     "data": {
      "image/png": "[encoded data removed]",
      "text/plain": [
       "<Figure size 432x288 with 1 Axes>"
      ]
     },
     "metadata": {
      "needs_background": "light"
     },
     "output_type": "display_data"
    }
   ],
   "source": [
    "#plotting one sample image\n",
    "def plot_image(x):\n",
    "    x=x.reshape((28,28))\n",
    "    plt.imshow(x)\n",
    "    plt.show()\n",
    "plot_image(X_train[10])    "
   ]
  },
  {
   "cell_type": "code",
   "execution_count": 27,
   "metadata": {},
   "outputs": [],
   "source": [
    "# knn algorithm\n",
    "# distance\n",
    "def distance(x1,x2):\n",
    "    return np.sqrt(np.sum((x1-x2)**2))\n",
    "\n",
    "def knn(X,Y,query_point,k=20):\n",
    "    m=X.shape[0]\n",
    "    l=[]\n",
    "    for i in range(m):\n",
    "        dist=distance(query_point,X[i])\n",
    "        l.append((dist,Y[i]))\n",
    "    val=sorted(l)\n",
    "    val=val[:k]\n",
    "    val=np.array(val)\n",
    "    r=np.unique(val[:,1],return_counts=True)\n",
    "    idx=np.argmax(r[1])\n",
    "    return r[0][idx]\n",
    "    "
   ]
  },
  {
   "cell_type": "code",
   "execution_count": 28,
   "metadata": {},
   "outputs": [],
   "source": [
    "m=X_test.shape[0]"
   ]
  },
  {
   "cell_type": "code",
   "execution_count": 32,
   "metadata": {},
   "outputs": [
    {
     "name": "stdout",
     "output_type": "stream",
     "text": [
      "actual image \n"
     ]
    },
    {
     "data": {
      "image/png": "[encoded data removed]",
      "text/plain": [
       "<Figure size 432x288 with 1 Axes>"
      ]
     },
     "metadata": {
      "needs_background": "light"
     },
     "output_type": "display_data"
    },
    {
     "name": "stdout",
     "output_type": "stream",
     "text": [
      "predict value :  0.0\n",
      "\n",
      "\n",
      "actual image \n"
     ]
    },
    {
     "data": {
      "image/png": "[encoded data removed]",
      "text/plain": [
       "<Figure size 432x288 with 1 Axes>"
      ]
     },
     "metadata": {
      "needs_background": "light"
     },
     "output_type": "display_data"
    },
    {
     "name": "stdout",
     "output_type": "stream",
     "text": [
      "predict value :  7.0\n",
      "\n",
      "\n",
      "actual image \n"
     ]
    },
    {
     "data": {
      "image/png": "[encoded data removed]",
      "text/plain": [
       "<Figure size 432x288 with 1 Axes>"
      ]
     },
     "metadata": {
      "needs_background": "light"
     },
     "output_type": "display_data"
    },
    {
     "name": "stdout",
     "output_type": "stream",
     "text": [
      "predict value :  7.0\n",
      "\n",
      "\n",
      "actual image \n"
     ]
    },
    {
     "data": {
      "image/png": "[encoded data removed]",
      "text/plain": [
       "<Figure size 432x288 with 1 Axes>"
      ]
     },
     "metadata": {
      "needs_background": "light"
     },
     "output_type": "display_data"
    },
    {
     "name": "stdout",
     "output_type": "stream",
     "text": [
      "predict value :  2.0\n",
      "\n",
      "\n",
      "actual image \n"
     ]
    },
    {
     "data": {
      "image/png": "[encoded data removed]",
      "text/plain": [
       "<Figure size 432x288 with 1 Axes>"
      ]
     },
     "metadata": {
      "needs_background": "light"
     },
     "output_type": "display_data"
    },
    {
     "name": "stdout",
     "output_type": "stream",
     "text": [
      "predict value :  2.0\n",
      "\n",
      "\n"
     ]
    }
   ],
   "source": [
    "for i in range(5):\n",
    "    p=knn(X_train,Y_train,X_test[i])\n",
    "    print('actual image ')\n",
    "    plot_image(X_test[i])\n",
    "    print('predict value : ',p,end=\"\\n\\n\\n\")"
   ]
  }
 ],
 "metadata": {
  "kernelspec": {
   "display_name": "Python 3",
   "language": "python",
   "name": "python3"
  },
  "language_info": {
   "codemirror_mode": {
    "name": "ipython",
    "version": 3
   },
   "file_extension": ".py",
   "mimetype": "text/x-python",
   "name": "python",
   "nbconvert_exporter": "python",
   "pygments_lexer": "ipython3",
   "version": "3.7.1"
  }
 },
 "nbformat": 4,
 "nbformat_minor": 2
}
