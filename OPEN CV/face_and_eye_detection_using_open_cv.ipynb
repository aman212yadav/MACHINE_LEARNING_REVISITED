{
 "cells": [
  {
   "cell_type": "code",
   "execution_count": 1,
   "metadata": {},
   "outputs": [],
   "source": [
    "import cv2"
   ]
  },
  {
   "cell_type": "code",
   "execution_count": 2,
   "metadata": {},
   "outputs": [],
   "source": [
    "face_classifier=cv2.CascadeClassifier('haarcascade_frontalface_alt.xml')\n",
    "eye_classifier=cv2.CascadeClassifier('haarcascade_eye.xml')\n",
    "cap=cv2.VideoCapture(0)"
   ]
  },
  {
   "cell_type": "code",
   "execution_count": 4,
   "metadata": {},
   "outputs": [],
   "source": [
    "while True:\n",
    "    ret,frame=cap.read()\n",
    "    if ret==False:\n",
    "        continue\n",
    "        \n",
    "    faces=face_classifier.detectMultiScale(frame,1.3,5)\n",
    "    for (x,y,w,h) in faces:   \n",
    "        cv2.rectangle(frame,(x,y),(x+w,y+h),(255,255,0),2) \n",
    "        img=frame[y:y+h,x:x+w]\n",
    "        eyes=eye_classifier.detectMultiScale(img)\n",
    "        for (a,b,c,d) in eyes:\n",
    "            cv2.rectangle(img,(a,b),(a+c,b+d),(255,255,0),2) \n",
    "    cv2.imshow('img',frame)  \n",
    "    key=cv2.waitKey(1) & 0XFF\n",
    "    if key==ord('q'):\n",
    "        break\n",
    "cap.release()\n",
    "cv2.destroyAllWindows()        "
   ]
  },
  {
   "cell_type": "code",
   "execution_count": null,
   "metadata": {},
   "outputs": [],
   "source": []
  }
 ],
 "metadata": {
  "kernelspec": {
   "display_name": "Python 3",
   "language": "python",
   "name": "python3"
  },
  "language_info": {
   "codemirror_mode": {
    "name": "ipython",
    "version": 3
   },
   "file_extension": ".py",
   "mimetype": "text/x-python",
   "name": "python",
   "nbconvert_exporter": "python",
   "pygments_lexer": "ipython3",
   "version": "3.7.1"
  }
 },
 "nbformat": 4,
 "nbformat_minor": 2
}
