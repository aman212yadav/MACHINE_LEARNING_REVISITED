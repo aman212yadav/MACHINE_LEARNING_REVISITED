{
 "cells": [
  {
   "cell_type": "code",
   "execution_count": 49,
   "metadata": {},
   "outputs": [],
   "source": [
    "# importing files\n",
    "import pandas as pd\n",
    "from nltk.stem import PorterStemmer\n",
    "from nltk.tokenize import RegexpTokenizer\n",
    "from nltk.corpus import stopwords\n",
    "from sklearn.feature_extraction.text import CountVectorizer\n",
    "from sklearn.naive_bayes import MultinomialNB,BernoulliNB,GaussianNB\n"
   ]
  },
  {
   "cell_type": "code",
   "execution_count": 2,
   "metadata": {},
   "outputs": [],
   "source": [
    "# reading file\n",
    "df=pd.read_csv(\"Train.csv\")\n",
    "\n",
    "\n",
    "# dataframe to data\n",
    "data=df.values\n",
    "review=data[:,0]\n",
    "label=data[:,1]\n",
    "\n"
   ]
  },
  {
   "cell_type": "code",
   "execution_count": 6,
   "metadata": {},
   "outputs": [],
   "source": [
    "# cleaning text data\n",
    "sw=set(stopwords.words(\"english\"))\n",
    "rexp=RegexpTokenizer(r'\\w+')\n",
    "ps=PorterStemmer()\n",
    "cv=CountVectorizer(\"english\")\n",
    "def clean_review(review):\n",
    "    review=review.lower()\n",
    "    review=review.replace(\"<br/><br/>\",\" \")\n",
    "    review=rexp.tokenize(review)\n",
    "    review=[rev for rev in review if rev not in sw ]\n",
    "    review=[ps.stem(rev) for rev in review]\n",
    "    return \" \".join(review)\n",
    "    \n",
    "    \n",
    "\n",
    "    "
   ]
  },
  {
   "cell_type": "code",
   "execution_count": 4,
   "metadata": {},
   "outputs": [],
   "source": [
    "sample_size=review.shape[0]\n",
    "for i in range(sample_size):\n",
    "    review[i]=clean_review(review[i])\n",
    "    "
   ]
  },
  {
   "cell_type": "code",
   "execution_count": 56,
   "metadata": {},
   "outputs": [],
   "source": [
    "x_vec=cv.fit_transform(review)"
   ]
  },
  {
   "cell_type": "code",
   "execution_count": 57,
   "metadata": {},
   "outputs": [
    {
     "data": {
      "text/plain": [
       "BernoulliNB(alpha=1.0, binarize=0.0, class_prior=None, fit_prior=True)"
      ]
     },
     "execution_count": 57,
     "metadata": {},
     "output_type": "execute_result"
    }
   ],
   "source": [
    "# training model\n",
    "mnb=MultinomialNB()\n",
    "mnb.fit(x_vec,label)\n",
    "bnb=BernoulliNB()\n",
    "bnb.fit(x_vec,label)\n"
   ]
  },
  {
   "cell_type": "code",
   "execution_count": 28,
   "metadata": {},
   "outputs": [],
   "source": [
    "# reading testfile\n",
    "dft=pd.read_csv(\"Test.csv\")\n",
    "test_review=dft.values\n",
    "test_review=test_review.reshape(-1,)"
   ]
  },
  {
   "cell_type": "code",
   "execution_count": 29,
   "metadata": {},
   "outputs": [],
   "source": [
    "# cleaning test file\n",
    "test_size=test_review.shape[0]\n",
    "for i in range(test_size):\n",
    "    test_review[i]=clean_review(test_review[i])"
   ]
  },
  {
   "cell_type": "code",
   "execution_count": 31,
   "metadata": {},
   "outputs": [],
   "source": [
    "x_test=cv.transform(test_review).toarray()\n"
   ]
  },
  {
   "cell_type": "code",
   "execution_count": 43,
   "metadata": {},
   "outputs": [],
   "source": [
    "y1=bnb.predict(x_test)\n",
    "y=mnb.predict(x_test)"
   ]
  },
  {
   "cell_type": "code",
   "execution_count": 40,
   "metadata": {},
   "outputs": [],
   "source": [
    "dfy=pd.DataFrame(y)\n",
    "\n",
    "dfy.to_csv(\"test_output.csv\",header=['label'],index=True)"
   ]
  },
  {
   "cell_type": "code",
   "execution_count": 47,
   "metadata": {},
   "outputs": [],
   "source": [
    "dfy1=pd.DataFrame(y1)\n",
    "dfy1.to_csv(\"test_output1.csv\",header=['label'],index=True)"
   ]
  },
  {
   "cell_type": "code",
   "execution_count": null,
   "metadata": {},
   "outputs": [],
   "source": []
  }
 ],
 "metadata": {
  "kernelspec": {
   "display_name": "Python 3",
   "language": "python",
   "name": "python3"
  },
  "language_info": {
   "codemirror_mode": {
    "name": "ipython",
    "version": 3
   },
   "file_extension": ".py",
   "mimetype": "text/x-python",
   "name": "python",
   "nbconvert_exporter": "python",
   "pygments_lexer": "ipython3",
   "version": "3.7.1"
  }
 },
 "nbformat": 4,
 "nbformat_minor": 2
}
