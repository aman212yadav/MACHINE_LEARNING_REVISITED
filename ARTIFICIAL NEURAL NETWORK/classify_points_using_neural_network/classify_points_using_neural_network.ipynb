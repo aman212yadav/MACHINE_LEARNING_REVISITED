{
 "cells": [
  {
   "cell_type": "markdown",
   "metadata": {},
   "source": [
    "## Importing libraries\n"
   ]
  },
  {
   "cell_type": "code",
   "execution_count": 1,
   "metadata": {},
   "outputs": [],
   "source": [
    "import numpy as np\n",
    "import matplotlib.pyplot as plt\n",
    "import pandas as pd\n",
    "import tensorflow as tf\n",
    "from tensorflow.keras.models import Sequential\n",
    "from tensorflow.keras.layers import Flatten,Dense"
   ]
  },
  {
   "cell_type": "markdown",
   "metadata": {},
   "source": [
    "## reading data"
   ]
  },
  {
   "cell_type": "code",
   "execution_count": 2,
   "metadata": {},
   "outputs": [],
   "source": [
    "datasetx=pd.read_csv('./dataset/Logistic_X_Train.csv')\n",
    "datasety=pd.read_csv('./dataset/Logistic_Y_Train.csv')"
   ]
  },
  {
   "cell_type": "code",
   "execution_count": 46,
   "metadata": {},
   "outputs": [
    {
     "data": {
      "text/html": [
       "<div>\n",
       "<style scoped>\n",
       "    .dataframe tbody tr th:only-of-type {\n",
       "        vertical-align: middle;\n",
       "    }\n",
       "\n",
       "    .dataframe tbody tr th {\n",
       "        vertical-align: top;\n",
       "    }\n",
       "\n",
       "    .dataframe thead th {\n",
       "        text-align: right;\n",
       "    }\n",
       "</style>\n",
       "<table border=\"1\" class=\"dataframe\">\n",
       "  <thead>\n",
       "    <tr style=\"text-align: right;\">\n",
       "      <th></th>\n",
       "      <th>f1</th>\n",
       "      <th>f2</th>\n",
       "    </tr>\n",
       "  </thead>\n",
       "  <tbody>\n",
       "    <tr>\n",
       "      <th>0</th>\n",
       "      <td>0.574727</td>\n",
       "      <td>0.787277</td>\n",
       "    </tr>\n",
       "    <tr>\n",
       "      <th>1</th>\n",
       "      <td>0.251502</td>\n",
       "      <td>0.908940</td>\n",
       "    </tr>\n",
       "    <tr>\n",
       "      <th>2</th>\n",
       "      <td>1.860578</td>\n",
       "      <td>0.013763</td>\n",
       "    </tr>\n",
       "    <tr>\n",
       "      <th>3</th>\n",
       "      <td>0.019477</td>\n",
       "      <td>1.047210</td>\n",
       "    </tr>\n",
       "    <tr>\n",
       "      <th>4</th>\n",
       "      <td>0.029794</td>\n",
       "      <td>0.252236</td>\n",
       "    </tr>\n",
       "  </tbody>\n",
       "</table>\n",
       "</div>"
      ],
      "text/plain": [
       "         f1        f2\n",
       "0  0.574727  0.787277\n",
       "1  0.251502  0.908940\n",
       "2  1.860578  0.013763\n",
       "3  0.019477  1.047210\n",
       "4  0.029794  0.252236"
      ]
     },
     "execution_count": 46,
     "metadata": {},
     "output_type": "execute_result"
    }
   ],
   "source": [
    "datasetx.head()"
   ]
  },
  {
   "cell_type": "code",
   "execution_count": 47,
   "metadata": {},
   "outputs": [
    {
     "data": {
      "text/html": [
       "<div>\n",
       "<style scoped>\n",
       "    .dataframe tbody tr th:only-of-type {\n",
       "        vertical-align: middle;\n",
       "    }\n",
       "\n",
       "    .dataframe tbody tr th {\n",
       "        vertical-align: top;\n",
       "    }\n",
       "\n",
       "    .dataframe thead th {\n",
       "        text-align: right;\n",
       "    }\n",
       "</style>\n",
       "<table border=\"1\" class=\"dataframe\">\n",
       "  <thead>\n",
       "    <tr style=\"text-align: right;\">\n",
       "      <th></th>\n",
       "      <th>label</th>\n",
       "    </tr>\n",
       "  </thead>\n",
       "  <tbody>\n",
       "    <tr>\n",
       "      <th>0</th>\n",
       "      <td>0</td>\n",
       "    </tr>\n",
       "    <tr>\n",
       "      <th>1</th>\n",
       "      <td>0</td>\n",
       "    </tr>\n",
       "    <tr>\n",
       "      <th>2</th>\n",
       "      <td>1</td>\n",
       "    </tr>\n",
       "    <tr>\n",
       "      <th>3</th>\n",
       "      <td>0</td>\n",
       "    </tr>\n",
       "    <tr>\n",
       "      <th>4</th>\n",
       "      <td>1</td>\n",
       "    </tr>\n",
       "  </tbody>\n",
       "</table>\n",
       "</div>"
      ],
      "text/plain": [
       "   label\n",
       "0      0\n",
       "1      0\n",
       "2      1\n",
       "3      0\n",
       "4      1"
      ]
     },
     "execution_count": 47,
     "metadata": {},
     "output_type": "execute_result"
    }
   ],
   "source": [
    "datasety.head()"
   ]
  },
  {
   "cell_type": "markdown",
   "metadata": {},
   "source": [
    "- converting dataframe to numpy array"
   ]
  },
  {
   "cell_type": "code",
   "execution_count": 48,
   "metadata": {},
   "outputs": [],
   "source": [
    "X_train=datasetx.values\n",
    "Y_train=datasety.values"
   ]
  },
  {
   "cell_type": "code",
   "execution_count": 49,
   "metadata": {},
   "outputs": [
    {
     "name": "stdout",
     "output_type": "stream",
     "text": [
      "(2250, 2) (2250, 1)\n"
     ]
    }
   ],
   "source": [
    "print(X_train.shape,Y_train.shape)"
   ]
  },
  {
   "cell_type": "markdown",
   "metadata": {},
   "source": [
    "## visualiasing data"
   ]
  },
  {
   "cell_type": "code",
   "execution_count": 50,
   "metadata": {},
   "outputs": [
    {
     "data": {
      "image/png": "[encoded data removed]",
      "text/plain": [
       "<Figure size 432x288 with 1 Axes>"
      ]
     },
     "metadata": {},
     "output_type": "display_data"
    }
   ],
   "source": [
    "plt.style.use('dark_background')\n",
    "plt.scatter(X_train[:,0],X_train[:,1],c=Y_train.flatten())\n",
    "plt.title(\"training data\")\n",
    "plt.xlabel(\"feature 1\")\n",
    "plt.ylabel(\"feature 2\")\n",
    "plt.show()"
   ]
  },
  {
   "cell_type": "markdown",
   "metadata": {},
   "source": [
    "### Building model "
   ]
  },
  {
   "cell_type": "code",
   "execution_count": 51,
   "metadata": {},
   "outputs": [],
   "source": [
    "from tensorflow.keras.models import Sequential\n",
    "from tensorflow.keras.layers import Flatten,Dense"
   ]
  },
  {
   "cell_type": "code",
   "execution_count": 52,
   "metadata": {},
   "outputs": [],
   "source": [
    "model=Sequential()"
   ]
  },
  {
   "cell_type": "code",
   "execution_count": 54,
   "metadata": {},
   "outputs": [
    {
     "name": "stdout",
     "output_type": "stream",
     "text": [
      "Model: \"sequential_2\"\n",
      "_________________________________________________________________\n",
      "Layer (type)                 Output Shape              Param #   \n",
      "=================================================================\n",
      "flatten_6 (Flatten)          (None, 2)                 0         \n",
      "_________________________________________________________________\n",
      "dense_12 (Dense)             (None, 30)                90        \n",
      "_________________________________________________________________\n",
      "dense_13 (Dense)             (None, 40)                1240      \n",
      "_________________________________________________________________\n",
      "dense_14 (Dense)             (None, 1)                 41        \n",
      "=================================================================\n",
      "Total params: 1,371\n",
      "Trainable params: 1,371\n",
      "Non-trainable params: 0\n",
      "_________________________________________________________________\n"
     ]
    }
   ],
   "source": [
    "model.add(Flatten(input_shape=X_train[0].shape))\n",
    "model.add(Dense(30,activation=\"relu\"))\n",
    "model.add(Dense(40,activation=\"relu\"))\n",
    "model.add(Dense(1,activation=\"sigmoid\"))\n",
    "model.summary()"
   ]
  },
  {
   "cell_type": "markdown",
   "metadata": {},
   "source": [
    "- Compiling model"
   ]
  },
  {
   "cell_type": "code",
   "execution_count": 58,
   "metadata": {},
   "outputs": [],
   "source": [
    "model.compile(optimizer='adam',loss=\"binary_crossentropy\",metrics=['accuracy'])"
   ]
  },
  {
   "cell_type": "markdown",
   "metadata": {},
   "source": [
    "- training model"
   ]
  },
  {
   "cell_type": "code",
   "execution_count": 62,
   "metadata": {},
   "outputs": [
    {
     "name": "stdout",
     "output_type": "stream",
     "text": [
      "Train on 2250 samples\n",
      "Epoch 1/40\n",
      "2250/2250 [==============================] - 2s 877us/sample - loss: 0.3831 - accuracy: 0.8444\n",
      "Epoch 2/40\n",
      "2250/2250 [==============================] - 0s 135us/sample - loss: 0.2678 - accuracy: 0.8853\n",
      "Epoch 3/40\n",
      "2250/2250 [==============================] - 0s 132us/sample - loss: 0.2288 - accuracy: 0.9058\n",
      "Epoch 4/40\n",
      "2250/2250 [==============================] - 0s 135us/sample - loss: 0.1922 - accuracy: 0.9231\n",
      "Epoch 5/40\n",
      "2250/2250 [==============================] - 0s 130us/sample - loss: 0.1601 - accuracy: 0.9404\n",
      "Epoch 6/40\n",
      "2250/2250 [==============================] - 0s 134us/sample - loss: 0.1358 - accuracy: 0.9484\n",
      "Epoch 7/40\n",
      "2250/2250 [==============================] - 0s 133us/sample - loss: 0.1212 - accuracy: 0.9551\n",
      "Epoch 8/40\n",
      "2250/2250 [==============================] - 0s 135us/sample - loss: 0.1113 - accuracy: 0.9604\n",
      "Epoch 9/40\n",
      "2250/2250 [==============================] - 0s 134us/sample - loss: 0.1054 - accuracy: 0.9627\n",
      "Epoch 10/40\n",
      "2250/2250 [==============================] - 0s 136us/sample - loss: 0.1020 - accuracy: 0.9636\n",
      "Epoch 11/40\n",
      "2250/2250 [==============================] - 0s 135us/sample - loss: 0.0991 - accuracy: 0.9653\n",
      "Epoch 12/40\n",
      "2250/2250 [==============================] - 0s 132us/sample - loss: 0.0974 - accuracy: 0.9649\n",
      "Epoch 13/40\n",
      "2250/2250 [==============================] - 0s 135us/sample - loss: 0.0960 - accuracy: 0.9653\n",
      "Epoch 14/40\n",
      "2250/2250 [==============================] - 0s 148us/sample - loss: 0.0964 - accuracy: 0.9667\n",
      "Epoch 15/40\n",
      "2250/2250 [==============================] - 0s 147us/sample - loss: 0.0939 - accuracy: 0.9653\n",
      "Epoch 16/40\n",
      "2250/2250 [==============================] - 0s 140us/sample - loss: 0.0938 - accuracy: 0.9662\n",
      "Epoch 17/40\n",
      "2250/2250 [==============================] - 0s 141us/sample - loss: 0.0943 - accuracy: 0.9667\n",
      "Epoch 18/40\n",
      "2250/2250 [==============================] - 0s 157us/sample - loss: 0.0935 - accuracy: 0.9680\n",
      "Epoch 19/40\n",
      "2250/2250 [==============================] - 0s 147us/sample - loss: 0.0935 - accuracy: 0.9667\n",
      "Epoch 20/40\n",
      "2250/2250 [==============================] - 0s 150us/sample - loss: 0.0925 - accuracy: 0.9649\n",
      "Epoch 21/40\n",
      "2250/2250 [==============================] - 0s 149us/sample - loss: 0.0944 - accuracy: 0.9627\n",
      "Epoch 22/40\n",
      "2250/2250 [==============================] - 0s 142us/sample - loss: 0.0934 - accuracy: 0.9649\n",
      "Epoch 23/40\n",
      "2250/2250 [==============================] - 0s 140us/sample - loss: 0.0925 - accuracy: 0.9676\n",
      "Epoch 24/40\n",
      "2250/2250 [==============================] - 0s 144us/sample - loss: 0.0885 - accuracy: 0.9676\n",
      "Epoch 25/40\n",
      "2250/2250 [==============================] - 0s 152us/sample - loss: 0.0933 - accuracy: 0.9658\n",
      "Epoch 26/40\n",
      "2250/2250 [==============================] - 0s 141us/sample - loss: 0.0920 - accuracy: 0.9671\n",
      "Epoch 27/40\n",
      "2250/2250 [==============================] - 0s 141us/sample - loss: 0.0909 - accuracy: 0.9662\n",
      "Epoch 28/40\n",
      "2250/2250 [==============================] - 0s 136us/sample - loss: 0.0913 - accuracy: 0.9680\n",
      "Epoch 29/40\n",
      "2250/2250 [==============================] - 0s 145us/sample - loss: 0.0903 - accuracy: 0.9680\n",
      "Epoch 30/40\n",
      "2250/2250 [==============================] - 0s 146us/sample - loss: 0.0920 - accuracy: 0.9658\n",
      "Epoch 31/40\n",
      "2250/2250 [==============================] - 0s 148us/sample - loss: 0.0904 - accuracy: 0.9680\n",
      "Epoch 32/40\n",
      "2250/2250 [==============================] - 0s 145us/sample - loss: 0.0909 - accuracy: 0.9676\n",
      "Epoch 33/40\n",
      "2250/2250 [==============================] - 0s 153us/sample - loss: 0.0911 - accuracy: 0.9658\n",
      "Epoch 34/40\n",
      "2250/2250 [==============================] - 0s 145us/sample - loss: 0.0895 - accuracy: 0.9689\n",
      "Epoch 35/40\n",
      "2250/2250 [==============================] - 0s 149us/sample - loss: 0.0910 - accuracy: 0.9667\n",
      "Epoch 36/40\n",
      "2250/2250 [==============================] - 0s 156us/sample - loss: 0.0902 - accuracy: 0.9667\n",
      "Epoch 37/40\n",
      "2250/2250 [==============================] - 0s 142us/sample - loss: 0.0906 - accuracy: 0.9680\n",
      "Epoch 38/40\n",
      "2250/2250 [==============================] - 0s 150us/sample - loss: 0.0929 - accuracy: 0.9671\n",
      "Epoch 39/40\n",
      "2250/2250 [==============================] - 0s 145us/sample - loss: 0.0904 - accuracy: 0.9653\n",
      "Epoch 40/40\n",
      "2250/2250 [==============================] - 0s 143us/sample - loss: 0.0919 - accuracy: 0.9667\n"
     ]
    },
    {
     "data": {
      "text/plain": [
       "<tensorflow.python.keras.callbacks.History at 0x1f9a824e9b0>"
      ]
     },
     "execution_count": 62,
     "metadata": {},
     "output_type": "execute_result"
    }
   ],
   "source": [
    "model.fit(X_train,Y_train,batch_size=10,epochs=40)"
   ]
  },
  {
   "cell_type": "markdown",
   "metadata": {},
   "source": [
    "### reading test data"
   ]
  },
  {
   "cell_type": "code",
   "execution_count": 64,
   "metadata": {},
   "outputs": [],
   "source": [
    "datasetx_test=pd.read_csv('./dataset/Logistic_X_Test.csv')"
   ]
  },
  {
   "cell_type": "code",
   "execution_count": 67,
   "metadata": {},
   "outputs": [
    {
     "data": {
      "text/plain": [
       "(750, 2)"
      ]
     },
     "execution_count": 67,
     "metadata": {},
     "output_type": "execute_result"
    }
   ],
   "source": [
    "X_test=datasetx_test.values\n",
    "X_test.shape"
   ]
  },
  {
   "cell_type": "markdown",
   "metadata": {},
   "source": [
    "- making prediction"
   ]
  },
  {
   "cell_type": "code",
   "execution_count": 72,
   "metadata": {},
   "outputs": [],
   "source": [
    "Y_test=model.predict_classes(X_test)"
   ]
  },
  {
   "cell_type": "markdown",
   "metadata": {},
   "source": [
    "### save numpy array to file"
   ]
  },
  {
   "cell_type": "code",
   "execution_count": 77,
   "metadata": {},
   "outputs": [
    {
     "name": "stdout",
     "output_type": "stream",
     "text": [
      "Object `to_csv` not found.\n"
     ]
    }
   ],
   "source": [
    "pd.DataFrame(Y_test).to_csv?"
   ]
  },
  {
   "cell_type": "code",
   "execution_count": 78,
   "metadata": {},
   "outputs": [],
   "source": [
    "pd.DataFrame(Y_test).to_csv('./dataset/prediction_y_test.csv',header=['label'],index=False)"
   ]
  },
  {
   "cell_type": "code",
   "execution_count": null,
   "metadata": {},
   "outputs": [],
   "source": []
  }
 ],
 "metadata": {
  "kernelspec": {
   "display_name": "Python 3",
   "language": "python",
   "name": "python3"
  },
  "language_info": {
   "codemirror_mode": {
    "name": "ipython",
    "version": 3
   },
   "file_extension": ".py",
   "mimetype": "text/x-python",
   "name": "python",
   "nbconvert_exporter": "python",
   "pygments_lexer": "ipython3",
   "version": "3.7.1"
  }
 },
 "nbformat": 4,
 "nbformat_minor": 2
}
