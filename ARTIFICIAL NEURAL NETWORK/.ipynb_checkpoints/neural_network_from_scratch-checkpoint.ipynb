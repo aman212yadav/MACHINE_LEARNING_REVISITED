{
 "cells": [
  {
   "cell_type": "markdown",
   "metadata": {},
   "source": [
    "## importing librarires"
   ]
  },
  {
   "cell_type": "code",
   "execution_count": 221,
   "metadata": {},
   "outputs": [],
   "source": [
    "import numpy as np\n",
    "import matplotlib.pyplot as plt\n",
    "from sklearn.datasets import make_moons"
   ]
  },
  {
   "cell_type": "markdown",
   "metadata": {},
   "source": [
    "## dataset"
   ]
  },
  {
   "cell_type": "code",
   "execution_count": 222,
   "metadata": {},
   "outputs": [],
   "source": [
    "X,Y=make_moons(n_samples=500,shuffle=True)"
   ]
  },
  {
   "cell_type": "markdown",
   "metadata": {},
   "source": [
    "## dataset summary "
   ]
  },
  {
   "cell_type": "code",
   "execution_count": 223,
   "metadata": {},
   "outputs": [
    {
     "name": "stdout",
     "output_type": "stream",
     "text": [
      "Number of training examples : 500\n",
      "Number of Features : 2\n",
      "..........................................\n",
      "Dimension of X :  (500, 2)\n",
      "Dimension of Y:  (500,)\n"
     ]
    }
   ],
   "source": [
    "print(\"Number of training examples : \"+str(X.shape[0]))\n",
    "print(\"Number of Features : \"+str(X.shape[1]))\n",
    "\n",
    "print(\"..........................................\")\n",
    "\n",
    "print(\"Dimension of X : \",X.shape)\n",
    "print(\"Dimension of Y: \",Y.shape)"
   ]
  },
  {
   "cell_type": "markdown",
   "metadata": {},
   "source": [
    "## data visualisation"
   ]
  },
  {
   "cell_type": "code",
   "execution_count": 224,
   "metadata": {},
   "outputs": [
    {
     "data": {
      "image/png": "[encoded data removed]",
      "text/plain": [
       "<Figure size 432x288 with 1 Axes>"
      ]
     },
     "metadata": {
      "needs_background": "light"
     },
     "output_type": "display_data"
    }
   ],
   "source": [
    "plt.scatter(X[:,0],X[:,1],c=Y)\n",
    "plt.xlabel(\"feature 1\")\n",
    "plt.ylabel(\"feature 2\")\n",
    "plt.show()"
   ]
  },
  {
   "cell_type": "code",
   "execution_count": 225,
   "metadata": {},
   "outputs": [],
   "source": [
    "def convertToYHotVector(Y,depth):\n",
    "    m=Y.shape[0]\n",
    "    Y_hot=np.zeros(shape=(m,depth))\n",
    "    Y_hot[np.arange(m),Y]=1\n",
    "    return Y_hot"
   ]
  },
  {
   "cell_type": "code",
   "execution_count": 226,
   "metadata": {},
   "outputs": [],
   "source": [
    "Y_hot=convertToYHotVector(Y,2)"
   ]
  },
  {
   "cell_type": "code",
   "execution_count": 227,
   "metadata": {},
   "outputs": [],
   "source": [
    "class NeuralNetwork:\n",
    "    def __init__(self,X,layers_size):\n",
    "        model={}\n",
    "        m=X.shape[1]\n",
    "        model[\"W1\"]=np.random.randn(layers_size[0],2)*0.01\n",
    "        model[\"b1\"]=np.zeros(shape=(layers_size[0],1))\n",
    "        for i in range(1,len(layers_size)):\n",
    "            model[\"W\"+str(i+1)]=np.random.randn(layers_size[i],layers_size[i-1])*0.01\n",
    "            model[\"b\"+str(i+1)]=np.zeros(shape=(layers_size[i],1))\n",
    "            \n",
    "        self.layer_size=len(layers_size)    \n",
    "        self.model=model\n",
    "        \n",
    "    def activation(self,z,act=\"sigmoid\"):\n",
    "        if act==\"relu\":\n",
    "            z[z<0]=0\n",
    "            return z\n",
    "        else:\n",
    "            return 1/(1+np.exp(-z))\n",
    "    def forward_propagation(self,X):\n",
    "       \n",
    "        model=self.model\n",
    "        model['A0']=X\n",
    "        for i in range(self.layer_size-1):\n",
    "            Z=np.dot(model[\"W\"+str(i+1)],model[\"A\"+str(i)])+model['b'+str(i+1)]\n",
    "            model['A'+str(i+1)]=self.activation(Z,\"relu\")\n",
    "        i=self.layer_size \n",
    "        Z=np.dot(model[\"W\"+str(i)],model[\"A\"+str(i-1)])+model['b'+str(i)]\n",
    "        model['A'+str(i)]= self.activation(Z)\n",
    "        return model['A'+str(i)]\n",
    "    \n",
    "    def backward_propagation(self,X,Y):\n",
    "        model=self.model\n",
    "        m=Y.shape[1]\n",
    "        grad={}\n",
    "        AL=model['A'+str(self.layer_size)]\n",
    "        grad['dA'+str(self.layer_size)]=-1*np.divide(Y,AL)+np.divide(1-Y,1-AL)\n",
    "        for i in range(self.layer_size,0,-1):\n",
    "            l=str(i)\n",
    "            z=model['A'+str(i)]\n",
    "            p=np.zeros(shape=z.shape)\n",
    "            p[z>0]=1;\n",
    "            grad['dZ'+l]=grad['dA'+l]*p\n",
    "            grad['dW'+l]=(1/m)*np.dot(grad['dZ'+l],model['A'+str(i-1)].T)\n",
    "            grad['db'+l]=np.sum(grad['dZ'+l],axis=1,keepdims=True)\n",
    "            grad['dA'+str(i-1)]=np.dot(model['W'+l].T ,grad['dZ'+l])\n",
    "            \n",
    "        self.grad=grad;    \n",
    "        \n",
    "    def update_params(self,learning_rate=0.001):\n",
    "        l=self.layer_size\n",
    "        model=self.model\n",
    "        grad=self.grad\n",
    "        for i in range(1,l):\n",
    "            model['W'+str(i)]=model['W'+str(i)]-learning_rate*grad['dW'+str(i)]\n",
    "            model['b'+str(i)]= model['b'+str(i)]-learning_rate*grad['db'+str(i)]\n",
    "    def loss(self,y,Y):\n",
    "        p=np.sum(-(Y*np.log(y)+(1-Y)*np.log(1-y)),axis=1)\n",
    "        p=np.squeeze(p)\n",
    "        return p\n",
    "    \n",
    "    def train(self,X,Y,learning_rate=0.001,num_of_iterations=1000):\n",
    "        losss=[]\n",
    "        for i in range(num_of_iterations):\n",
    "            y=self.forward_propagation(X)\n",
    "            los=self.loss(y,Y)\n",
    "            if(i%10==0):\n",
    "                losss.append(los)\n",
    "            self.backward_propagation(X,Y)\n",
    "            self.update_params(learning_rate)\n",
    "        return losss\n",
    "    def predict(self,X):\n",
    "        y=self.forward_propagation(X)\n",
    "        pre=np.zeros(shape=y.shape)\n",
    "        pre[y>0.5]=1\n",
    "        return pre"
   ]
  },
  {
   "cell_type": "code",
   "execution_count": 228,
   "metadata": {},
   "outputs": [],
   "source": [
    "X=X.reshape(2,-1)\n",
    "Y=Y.reshape(1,-1)"
   ]
  },
  {
   "cell_type": "code",
   "execution_count": 229,
   "metadata": {},
   "outputs": [],
   "source": [
    "layersize=[3,1]\n",
    "neural=NeuralNetwork(X,layersize)"
   ]
  },
  {
   "cell_type": "code",
   "execution_count": 230,
   "metadata": {},
   "outputs": [],
   "source": [
    "loss=neural.train(X,Y)"
   ]
  },
  {
   "cell_type": "code",
   "execution_count": 231,
   "metadata": {},
   "outputs": [
    {
     "data": {
      "text/plain": [
       "[<matplotlib.lines.Line2D at 0x1c36764fbe0>]"
      ]
     },
     "execution_count": 231,
     "metadata": {},
     "output_type": "execute_result"
    },
    {
     "data": {
      "image/png": "[encoded data removed]",
      "text/plain": [
       "<Figure size 432x288 with 1 Axes>"
      ]
     },
     "metadata": {
      "needs_background": "light"
     },
     "output_type": "display_data"
    }
   ],
   "source": [
    "plt.plot(loss)"
   ]
  },
  {
   "cell_type": "code",
   "execution_count": null,
   "metadata": {},
   "outputs": [],
   "source": []
  }
 ],
 "metadata": {
  "kernelspec": {
   "display_name": "Python 3",
   "language": "python",
   "name": "python3"
  },
  "language_info": {
   "codemirror_mode": {
    "name": "ipython",
    "version": 3
   },
   "file_extension": ".py",
   "mimetype": "text/x-python",
   "name": "python",
   "nbconvert_exporter": "python",
   "pygments_lexer": "ipython3",
   "version": "3.7.1"
  }
 },
 "nbformat": 4,
 "nbformat_minor": 2
}
