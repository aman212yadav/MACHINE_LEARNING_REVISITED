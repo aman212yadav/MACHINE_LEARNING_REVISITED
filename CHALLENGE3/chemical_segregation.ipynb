{
 "cells": [
  {
   "cell_type": "markdown",
   "metadata": {},
   "source": [
    "# CHEMICALS SEGREGATION"
   ]
  },
  {
   "cell_type": "code",
   "execution_count": 1,
   "metadata": {},
   "outputs": [],
   "source": [
    "# importing files\n",
    "import numpy as np\n",
    "import matplotlib.pyplot as plt\n",
    "import pandas as pd"
   ]
  },
  {
   "cell_type": "code",
   "execution_count": 8,
   "metadata": {},
   "outputs": [
    {
     "name": "stdout",
     "output_type": "stream",
     "text": [
      "(3000, 4) (3000, 1)\n"
     ]
    }
   ],
   "source": [
    "#loading data\n",
    "dfx=pd.read_csv('DATASET/Logistic_X_Train.csv')\n",
    "X_train=dfx.values\n",
    "dfy=pd.read_csv('DATASET/Logistic_Y_Train.csv')\n",
    "Y_train=dfy.values\n",
    "\n",
    "\n",
    "ones=np.ones((X_train.shape[0],1))\n",
    "X_train=np.hstack((ones,X_train))\n",
    "print(X_train.shape,Y_train.shape)\n",
    "\n"
   ]
  },
  {
   "cell_type": "code",
   "execution_count": 63,
   "metadata": {},
   "outputs": [],
   "source": [
    "# logistic regression\n",
    "def hypothesis(X,theta):\n",
    "    hx=np.dot(theta,X.T)\n",
    "    return sigmoid(hx.T)\n",
    "def sigmoid(X):\n",
    "    return 1.0/(1.0+np.exp(-1.0*X))\n",
    "\n",
    "def error(X,Y,theta):\n",
    "    m=X.shape[0]\n",
    "    hx=hypothesis(X,theta)\n",
    "    loss=np.sum(Y*np.log2(hx)+(1-Y)*np.log2(1-hx))\n",
    "    return -loss/m\n",
    "def grad(X,Y,theta):\n",
    "    hx=hypothesis(X,theta)\n",
    "    diff=hx-Y\n",
    "    grad=np.sum(diff*X,axis=0)\n",
    "    grad.reshape((1,-1))\n",
    "    return grad\n",
    "def gradient_descent(X,Y,theta,learning_rate=0.05,max_iterations=5000):\n",
    "    err=[]\n",
    "    acc=[]\n",
    "    for i in range(max_iterations):\n",
    "        e=error(X,Y,theta)\n",
    "        acc.append(accuracy(X,Y,theta))\n",
    "        err.append(e)\n",
    "        gra=grad(X,Y,theta)\n",
    "        theta=theta-learning_rate*gra\n",
    "    return err,acc,theta\n",
    "def accuracy(X,Y,theta):\n",
    "    hx=hypothesis(X,theta)\n",
    "    hx=(hx>=0.5)\n",
    "    m=X.shape[0]\n",
    "    return (Y==hx).sum()/m*100\n"
   ]
  },
  {
   "cell_type": "code",
   "execution_count": 64,
   "metadata": {},
   "outputs": [
    {
     "name": "stderr",
     "output_type": "stream",
     "text": [
      "C:\\ProgramData\\Anaconda3\\lib\\site-packages\\ipykernel_launcher.py:11: RuntimeWarning: divide by zero encountered in log2\n",
      "  # This is added back by InteractiveShellApp.init_path()\n",
      "C:\\ProgramData\\Anaconda3\\lib\\site-packages\\ipykernel_launcher.py:11: RuntimeWarning: invalid value encountered in multiply\n",
      "  # This is added back by InteractiveShellApp.init_path()\n"
     ]
    }
   ],
   "source": [
    "# initialising data\n",
    "theta=np.random.random((1,X_train.shape[1]))\n",
    "err,ac,theta=gradient_descent(X_train,Y_train,theta)\n"
   ]
  },
  {
   "cell_type": "code",
   "execution_count": 65,
   "metadata": {},
   "outputs": [
    {
     "data": {
      "text/plain": [
       "[<matplotlib.lines.Line2D at 0x180689d8f98>]"
      ]
     },
     "execution_count": 65,
     "metadata": {},
     "output_type": "execute_result"
    },
    {
     "data": {
      "image/png": "[encoded data removed]",
      "text/plain": [
       "<Figure size 432x288 with 1 Axes>"
      ]
     },
     "metadata": {
      "needs_background": "light"
     },
     "output_type": "display_data"
    }
   ],
   "source": [
    "plt.plot(err)"
   ]
  },
  {
   "cell_type": "code",
   "execution_count": 55,
   "metadata": {},
   "outputs": [
    {
     "name": "stdout",
     "output_type": "stream",
     "text": [
      "[[-5.00317682 -5.765842    3.73192811 -2.96706775]]\n"
     ]
    }
   ],
   "source": [
    "print(theta)"
   ]
  },
  {
   "cell_type": "code",
   "execution_count": 67,
   "metadata": {},
   "outputs": [
    {
     "data": {
      "text/plain": [
       "[<matplotlib.lines.Line2D at 0x18068df9710>]"
      ]
     },
     "execution_count": 67,
     "metadata": {},
     "output_type": "execute_result"
    },
    {
     "data": {
      "image/png": "[encoded data removed]",
      "text/plain": [
       "<Figure size 432x288 with 1 Axes>"
      ]
     },
     "metadata": {
      "needs_background": "light"
     },
     "output_type": "display_data"
    }
   ],
   "source": [
    "plt.plot(ac)"
   ]
  },
  {
   "cell_type": "code",
   "execution_count": 71,
   "metadata": {},
   "outputs": [
    {
     "name": "stdout",
     "output_type": "stream",
     "text": [
      "(1000, 3)\n"
     ]
    }
   ],
   "source": [
    "# loading test file\n",
    "dfx=pd.read_csv('DATASET/Logistic_X_Test.csv')\n",
    "X_test=dfx.values\n",
    "print(X_test.shape)"
   ]
  },
  {
   "cell_type": "code",
   "execution_count": 72,
   "metadata": {},
   "outputs": [],
   "source": [
    "ones=np.ones((X_test.shape[0],1))\n",
    "X_test=np.hstack((ones,X_test))"
   ]
  },
  {
   "cell_type": "code",
   "execution_count": 73,
   "metadata": {},
   "outputs": [],
   "source": [
    "Y_test=hypothesis(X_test,theta)\n",
    "Y_test=(Y_test>=0.5)"
   ]
  },
  {
   "cell_type": "code",
   "execution_count": 79,
   "metadata": {},
   "outputs": [
    {
     "name": "stdout",
     "output_type": "stream",
     "text": [
      "(1000, 1)\n"
     ]
    }
   ],
   "source": [
    "print(Y_test.shape)\n",
    "Y_test=1*Y_test"
   ]
  },
  {
   "cell_type": "code",
   "execution_count": 80,
   "metadata": {},
   "outputs": [],
   "source": [
    "dfy=pd.DataFrame(Y_test)\n",
    "dfy.to_csv('DATASET/LOGISTIC_Y_Test.csv',header=['label'],index=False)"
   ]
  },
  {
   "cell_type": "code",
   "execution_count": null,
   "metadata": {},
   "outputs": [],
   "source": []
  }
 ],
 "metadata": {
  "kernelspec": {
   "display_name": "Python 3",
   "language": "python",
   "name": "python3"
  },
  "language_info": {
   "codemirror_mode": {
    "name": "ipython",
    "version": 3
   },
   "file_extension": ".py",
   "mimetype": "text/x-python",
   "name": "python",
   "nbconvert_exporter": "python",
   "pygments_lexer": "ipython3",
   "version": "3.7.1"
  }
 },
 "nbformat": 4,
 "nbformat_minor": 2
}
