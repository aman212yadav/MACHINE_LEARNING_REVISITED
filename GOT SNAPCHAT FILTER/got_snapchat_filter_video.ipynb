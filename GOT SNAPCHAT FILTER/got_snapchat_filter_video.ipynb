{
 "cells": [
  {
   "cell_type": "code",
   "execution_count": 1,
   "metadata": {},
   "outputs": [],
   "source": [
    "import cv2"
   ]
  },
  {
   "cell_type": "code",
   "execution_count": 2,
   "metadata": {},
   "outputs": [],
   "source": [
    "mustache             =  cv2.imread('DATASET/Train/mustache.png', -1)\n",
    "glasses              =  cv2.imread('DATASET/Train/glasses.png' , -1)\n",
    "\n",
    "face_classifier      =  cv2.CascadeClassifier('third_party/haarcascade_frontalface_alt.xml')\n",
    "eye_classifier       =  cv2.CascadeClassifier('third_party/haarcascade_eye.xml')\n",
    "nose_classifier      =  cv2.CascadeClassifier('Nose18x15.xml')\n"
   ]
  },
  {
   "cell_type": "code",
   "execution_count": 3,
   "metadata": {},
   "outputs": [
    {
     "ename": "error",
     "evalue": "OpenCV(4.0.0) C:\\projects\\opencv-python\\opencv\\modules\\objdetect\\src\\cascadedetect.cpp:1658: error: (-215:Assertion failed) !empty() in function 'cv::CascadeClassifier::detectMultiScale'\n",
     "output_type": "error",
     "traceback": [
      "\u001b[1;31m---------------------------------------------------------------------------\u001b[0m",
      "\u001b[1;31merror\u001b[0m                                     Traceback (most recent call last)",
      "\u001b[1;32m<ipython-input-3-eef484475c03>\u001b[0m in \u001b[0;36m<module>\u001b[1;34m\u001b[0m\n\u001b[0;32m     21\u001b[0m                         \u001b[0mroi_color\u001b[0m\u001b[1;33m[\u001b[0m\u001b[0mye\u001b[0m\u001b[1;33m+\u001b[0m\u001b[0mj\u001b[0m\u001b[1;33m,\u001b[0m\u001b[0mxe\u001b[0m\u001b[1;33m+\u001b[0m\u001b[0mi\u001b[0m\u001b[1;33m]\u001b[0m\u001b[1;33m=\u001b[0m\u001b[0mglasses1\u001b[0m\u001b[1;33m[\u001b[0m\u001b[0mj\u001b[0m\u001b[1;33m,\u001b[0m\u001b[0mi\u001b[0m\u001b[1;33m]\u001b[0m\u001b[1;33m\u001b[0m\u001b[1;33m\u001b[0m\u001b[0m\n\u001b[0;32m     22\u001b[0m \u001b[1;33m\u001b[0m\u001b[0m\n\u001b[1;32m---> 23\u001b[1;33m         \u001b[0mnoses\u001b[0m\u001b[1;33m=\u001b[0m\u001b[0mnose_classifier\u001b[0m\u001b[1;33m.\u001b[0m\u001b[0mdetectMultiScale\u001b[0m\u001b[1;33m(\u001b[0m\u001b[0mroi_grey\u001b[0m\u001b[1;33m,\u001b[0m\u001b[1;36m1.5\u001b[0m\u001b[1;33m,\u001b[0m\u001b[1;36m5\u001b[0m\u001b[1;33m)\u001b[0m\u001b[1;33m\u001b[0m\u001b[1;33m\u001b[0m\u001b[0m\n\u001b[0m\u001b[0;32m     24\u001b[0m         \u001b[1;32mfor\u001b[0m \u001b[1;33m(\u001b[0m\u001b[0mxn\u001b[0m\u001b[1;33m,\u001b[0m\u001b[0myn\u001b[0m\u001b[1;33m,\u001b[0m\u001b[0mwn\u001b[0m\u001b[1;33m,\u001b[0m\u001b[0mhn\u001b[0m\u001b[1;33m)\u001b[0m \u001b[1;32min\u001b[0m \u001b[0mnoses\u001b[0m\u001b[1;33m:\u001b[0m\u001b[1;33m\u001b[0m\u001b[1;33m\u001b[0m\u001b[0m\n\u001b[0;32m     25\u001b[0m             \u001b[0mroi_nose\u001b[0m\u001b[1;33m=\u001b[0m \u001b[0mroi_grey\u001b[0m\u001b[1;33m[\u001b[0m\u001b[0myn\u001b[0m\u001b[1;33m:\u001b[0m\u001b[0myn\u001b[0m\u001b[1;33m+\u001b[0m\u001b[0mhn\u001b[0m\u001b[1;33m,\u001b[0m\u001b[0mxn\u001b[0m\u001b[1;33m:\u001b[0m\u001b[0mxn\u001b[0m\u001b[1;33m+\u001b[0m\u001b[0mwn\u001b[0m\u001b[1;33m]\u001b[0m\u001b[1;33m\u001b[0m\u001b[1;33m\u001b[0m\u001b[0m\n",
      "\u001b[1;31merror\u001b[0m: OpenCV(4.0.0) C:\\projects\\opencv-python\\opencv\\modules\\objdetect\\src\\cascadedetect.cpp:1658: error: (-215:Assertion failed) !empty() in function 'cv::CascadeClassifier::detectMultiScale'\n"
     ]
    }
   ],
   "source": [
    "cap=cv2.VideoCapture(0)\n",
    "while True:\n",
    "    ret,frame=cap.read()\n",
    "    if ret==False:\n",
    "        continue\n",
    "    grey=cv2.cvtColor(frame,cv2.COLOR_BGR2GRAY)\n",
    "    faces=face_classifier.detectMultiScale(frame,1.5,5)\n",
    "    frame=cv2.cvtColor(frame,cv2.COLOR_BGR2BGRA)\n",
    "    for (x,y,w,h) in faces:\n",
    "        roi_grey =frame[y:y+h,x:x+w]\n",
    "        roi_color=frame[y:y+h,x:x+w]\n",
    "        eyes=eye_classifier.detectMultiScale(roi_grey,1.5,5)\n",
    "        for (xe,ye,we,he) in eyes:\n",
    "            roi_eyes= roi_grey[ye:ye+he,xe:xe+we]\n",
    "            gw,gh,gc=glasses.shape\n",
    "            glasses1= cv2.resize(glasses.copy(),(we,he))\n",
    "            gw,gh,gc=glasses1.shape\n",
    "            for i in range(0,gw):\n",
    "                for j in range(0,gh):\n",
    "                    if glasses1[j,i][3]!=0:\n",
    "                        roi_color[ye+j,xe+i]=glasses1[j,i]\n",
    "                        \n",
    "        noses=nose_classifier.detectMultiScale(roi_grey,1.5,5)\n",
    "        for (xn,yn,wn,hn) in noses:\n",
    "            roi_nose= roi_grey[yn:yn+hn,xn:xn+wn]\n",
    "            mw,mh,mc= mustache.shape\n",
    "            mustache1= image_resize(mustache.copy(),(wn,hn))\n",
    "            mw,mh,mc= mustache1.shape\n",
    "            for i in range(0,mw):\n",
    "                for j in range(0,mh):\n",
    "                    if mustache1[j,i][3]!=0:\n",
    "                        roi_color[yn+j,xn+i]=mustache1[j,i]\n",
    "                        \n",
    "    frame=cv2.cvtColor(frame,cv2.COLOR_BGRA2BGR)                    \n",
    "    cv2.imshow('frame',frame)                 \n",
    "    key=cv2.waitKey(1) & 0xFF\n",
    "    if key==ord('q') :\n",
    "        break    \n",
    "                        \n",
    "cap.release()\n",
    "cv2.destroyAllWindows()         \n",
    "        "
   ]
  },
  {
   "cell_type": "code",
   "execution_count": null,
   "metadata": {},
   "outputs": [],
   "source": []
  }
 ],
 "metadata": {
  "kernelspec": {
   "display_name": "Python 3",
   "language": "python",
   "name": "python3"
  },
  "language_info": {
   "codemirror_mode": {
    "name": "ipython",
    "version": 3
   },
   "file_extension": ".py",
   "mimetype": "text/x-python",
   "name": "python",
   "nbconvert_exporter": "python",
   "pygments_lexer": "ipython3",
   "version": "3.7.1"
  }
 },
 "nbformat": 4,
 "nbformat_minor": 2
}
