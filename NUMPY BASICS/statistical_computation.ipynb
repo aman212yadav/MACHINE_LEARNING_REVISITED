{
 "cells": [
  {
   "cell_type": "markdown",
   "metadata": {},
   "source": [
    "<p style=\"color:red;\"> Aman yadav </p>\n",
    "<h1> Numpy functions - statistic </h1>   \n",
    "    <ul>\n",
    "    <li> min ,max </li>\n",
    "    <li>mean </li>\n",
    "    <li> average </li>\n",
    "    <li> variance </li>\n",
    "    <li> standard deviation</li>\n",
    "    </ul>\n"
   ]
  },
  {
   "cell_type": "code",
   "execution_count": 3,
   "metadata": {},
   "outputs": [],
   "source": [
    "import numpy as np"
   ]
  },
  {
   "cell_type": "code",
   "execution_count": 5,
   "metadata": {},
   "outputs": [
    {
     "data": {
      "text/plain": [
       "array([[1, 2, 3, 4],\n",
       "       [5, 6, 7, 8]])"
      ]
     },
     "execution_count": 5,
     "metadata": {},
     "output_type": "execute_result"
    }
   ],
   "source": [
    "a=np.array([[1,2,3,4],[5,6,7,8]])\n",
    "a"
   ]
  },
  {
   "cell_type": "code",
   "execution_count": 8,
   "metadata": {},
   "outputs": [
    {
     "name": "stdout",
     "output_type": "stream",
     "text": [
      "1\n",
      "[1 2 3 4]\n",
      "8\n",
      "[5 6 7 8]\n"
     ]
    }
   ],
   "source": [
    "# get minimum among all\n",
    "print(np.min(a))\n",
    "\n",
    "# get minimum columnwise/rowise axis=0/1\n",
    "print(np.min(a,axis=0))\n",
    "# get maximum among all\n",
    "print(np.max(a))\n",
    "\n",
    "# get maximum columnwise/rowise axis=0/1\n",
    "print(np.max(a,axis=0))"
   ]
  },
  {
   "cell_type": "code",
   "execution_count": 19,
   "metadata": {},
   "outputs": [
    {
     "name": "stdout",
     "output_type": "stream",
     "text": [
      "[0 1 2 3 4]\n",
      "2.0\n",
      "[3. 4. 5. 6.]\n",
      "[2.5 6.5]\n",
      "2.0\n"
     ]
    }
   ],
   "source": [
    "b=np.arange(5)\n",
    "print(b)\n",
    "# get mean\n",
    "print(np.mean(b))\n",
    "print(np.mean(a,axis=0))\n",
    "print(np.mean(a,axis=1))\n",
    "# get average ( average is weighted mean)\n",
    "print(np.average(b,weights=[1,1,1,1,1]))\n"
   ]
  },
  {
   "cell_type": "code",
   "execution_count": 16,
   "metadata": {},
   "outputs": [
    {
     "name": "stdout",
     "output_type": "stream",
     "text": [
      "[0 1 3 4 2]\n",
      "2.0\n"
     ]
    }
   ],
   "source": [
    "np.random.shuffle(b)\n",
    "print(b)\n",
    "# get median\n",
    "print(np.median(b))"
   ]
  },
  {
   "cell_type": "code",
   "execution_count": 22,
   "metadata": {},
   "outputs": [
    {
     "name": "stdout",
     "output_type": "stream",
     "text": [
      "1.4142135623730951\n",
      "1.4142135623730951\n"
     ]
    }
   ],
   "source": [
    "#standard deviation\n",
    "# formula sqrt((xi-u)**2)/size)\n",
    "mean=np.mean(b)\n",
    "standard_deviation=np.sqrt(np.mean((b-mean)**2))\n",
    "print(standard_deviation)\n",
    "# using inbuild function\n",
    "print(np.std(b))\n"
   ]
  },
  {
   "cell_type": "code",
   "execution_count": 23,
   "metadata": {},
   "outputs": [
    {
     "name": "stdout",
     "output_type": "stream",
     "text": [
      "2.0000000000000004\n",
      "2.0\n"
     ]
    }
   ],
   "source": [
    "# variance\n",
    "print(standard_deviation**2)\n",
    "print(np.var(b))"
   ]
  },
  {
   "cell_type": "code",
   "execution_count": null,
   "metadata": {},
   "outputs": [],
   "source": []
  }
 ],
 "metadata": {
  "kernelspec": {
   "display_name": "Python 3",
   "language": "python",
   "name": "python3"
  },
  "language_info": {
   "codemirror_mode": {
    "name": "ipython",
    "version": 3
   },
   "file_extension": ".py",
   "mimetype": "text/x-python",
   "name": "python",
   "nbconvert_exporter": "python",
   "pygments_lexer": "ipython3",
   "version": "3.7.1"
  }
 },
 "nbformat": 4,
 "nbformat_minor": 2
}
